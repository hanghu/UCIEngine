{
 "cells": [
  {
   "cell_type": "markdown",
   "metadata": {},
   "source": [
    "### Warning! Currently only working for GHF "
   ]
  },
  {
   "cell_type": "code",
   "execution_count": 1,
   "metadata": {},
   "outputs": [],
   "source": [
    "from RASCIState_analyzer import RASCIStates"
   ]
  },
  {
   "cell_type": "code",
   "execution_count": 2,
   "metadata": {},
   "outputs": [],
   "source": [
    "states = RASCIStates('rasci_example.log')"
   ]
  },
  {
   "cell_type": "code",
   "execution_count": 3,
   "metadata": {},
   "outputs": [
    {
     "name": "stdout",
     "output_type": "stream",
     "text": [
      "N_TOTAL_ACTIVE_ORBITALS = 46, N_TOTAL_ACTIVE_ELECTRON = 7\n",
      "N_MAX_HOLE = 2, N_RAS1 = 6, N_MAX_ELECTRON = 3, N_RAS3 = 40\n",
      " \n",
      "Analyzing leading determinants with squared oefficient absolute value larger than 0.100000\n",
      " \n",
      "State 1, Energy:    -28633.5224528937\n",
      "  |      23>:  0.29917+-0.91697i; |C|^2: 9.30343E-01; 1111110000000000000000000000100000000000000000\n",
      "State 2, Energy:    -28633.5216331029\n",
      "  |       1>: -0.26034+ 0.96048i; |C|^2: 9.90294E-01; 1111111000000000000000000000000000000000000000\n",
      "State 3, Energy:    -28633.4938992677\n",
      "  |      22>:  0.60088+-0.36805i; |C|^2: 4.96513E-01; 1111110000000000000000000001000000000000000000\n",
      "  |      24>: -0.09233+-0.43057i; |C|^2: 1.93918E-01; 1111110000000000000000000000010000000000000000\n",
      "State 4, Energy:    -28633.4938517247\n",
      "  |      26>:  0.47355+ 0.35612i; |C|^2: 3.51074E-01; 1111110000000000000000000000000100000000000000\n",
      "  |      25>:  0.02276+ 0.50203i; |C|^2: 2.52551E-01; 1111110000000000000000000000001000000000000000\n",
      "  |      28>: -0.21052+ 0.27860i; |C|^2: 1.21935E-01; 1111110000000000000000000000000001000000000000\n",
      "State 5, Energy:    -28633.4936445999\n",
      "  |      25>: -0.37376+-0.58418i; |C|^2: 4.80970E-01; 1111110000000000000000000000001000000000000000\n",
      "  |      24>: -0.03331+ 0.48003i; |C|^2: 2.31540E-01; 1111110000000000000000000000010000000000000000\n",
      "State 6, Energy:    -28633.4934915580\n",
      "  |      24>:  0.55594+ 0.03239i; |C|^2: 3.10117E-01; 1111110000000000000000000000010000000000000000\n",
      "  |      26>: -0.00926+ 0.50099i; |C|^2: 2.51075E-01; 1111110000000000000000000000000100000000000000\n",
      "  |      25>:  0.37663+-0.01095i; |C|^2: 1.41971E-01; 1111110000000000000000000000001000000000000000\n",
      "State 7, Energy:    -28633.4860773240\n",
      "  |      28>:  0.65611+-0.52705i; |C|^2: 7.08261E-01; 1111110000000000000000000000000001000000000000\n",
      "  |      26>:  0.31285+ 0.40261i; |C|^2: 2.59972E-01; 1111110000000000000000000000000100000000000000\n",
      "State 8, Energy:    -28633.4859564232\n",
      "  |      27>:  0.70913+-0.64425i; |C|^2: 9.17926E-01; 1111110000000000000000000000000010000000000000\n",
      "State 9, Energy:    -28633.4453999679\n",
      "  |      31>:  0.65577+ 0.58194i; |C|^2: 7.68687E-01; 1111110000000000000000000000000000001000000000\n",
      "State 10, Energy:    -28633.4453273620\n",
      "  |      30>: -0.43919+ 0.45647i; |C|^2: 4.01251E-01; 1111110000000000000000000000000000010000000000\n",
      "  |      33>:  0.26329+-0.25304i; |C|^2: 1.33346E-01; 1111110000000000000000000000000000000010000000\n",
      "  |      29>:  0.24903+ 0.25384i; |C|^2: 1.26451E-01; 1111110000000000000000000000000000100000000000\n",
      "  |      32>: -0.24629+ 0.20119i; |C|^2: 1.01137E-01; 1111110000000000000000000000000000000100000000\n",
      "  |      34>: -0.22862+-0.22045i; |C|^2: 1.00864E-01; 1111110000000000000000000000000000000001000000\n",
      "State 11, Energy:    -28633.4452623888\n",
      "  |      33>:  0.27266+ 0.48773i; |C|^2: 3.12226E-01; 1111110000000000000000000000000000000010000000\n",
      "  |      29>: -0.46430+ 0.26333i; |C|^2: 2.84918E-01; 1111110000000000000000000000000000100000000000\n",
      "  |      32>:  0.32956+ 0.24116i; |C|^2: 1.66771E-01; 1111110000000000000000000000000000000100000000\n",
      "  |      30>:  0.08691+ 0.33617i; |C|^2: 1.20565E-01; 1111110000000000000000000000000000010000000000\n",
      "State 12, Energy:    -28633.4451927960\n",
      "  |      32>: -0.65457+ 0.50367i; |C|^2: 6.82141E-01; 1111110000000000000000000000000000000100000000\n",
      "  |      30>:  0.35935+-0.16705i; |C|^2: 1.57039E-01; 1111110000000000000000000000000000010000000000\n",
      "State 13, Energy:    -28633.4388441509\n",
      "  |      33>: -0.05862+ 0.68165i; |C|^2: 4.68084E-01; 1111110000000000000000000000000000000010000000\n",
      "  |      29>:  0.67986+ 0.05278i; |C|^2: 4.64997E-01; 1111110000000000000000000000000000100000000000\n",
      "State 14, Energy:    -28633.4387954406\n",
      "  |      34>: -0.20827+ 0.85922i; |C|^2: 7.81628E-01; 1111110000000000000000000000000000000001000000\n",
      "  |      30>: -0.37633+-0.08865i; |C|^2: 1.49485E-01; 1111110000000000000000000000000000010000000000\n"
     ]
    }
   ],
   "source": [
    "states.gen_state_config_report(threshold=0.1)"
   ]
  },
  {
   "cell_type": "code",
   "execution_count": 4,
   "metadata": {},
   "outputs": [
    {
     "name": "stdout",
     "output_type": "stream",
     "text": [
      "N_TOTAL_ACTIVE_ORBITALS = 46, N_TOTAL_ACTIVE_ELECTRON = 7\n",
      "N_MAX_HOLE = 2, N_RAS1 = 6, N_MAX_ELECTRON = 3, N_RAS3 = 40\n",
      " \n",
      "Analyzing leading determinants with squared oefficient absolute value larger than 0.100000\n",
      " \n",
      "State 1, Energy:    -28633.5224528937\n",
      "  |      23>:  0.29917+-0.91697i; |C|^2: 9.30343E-01;  U-F Bonding 6 U(5f) 1 U(7s8s) 0 U(6d) 0 U(7p) 0 U-F Anti-bonding 0\n",
      "State 2, Energy:    -28633.5216331029\n",
      "  |       1>: -0.26034+ 0.96048i; |C|^2: 9.90294E-01;  U-F Bonding 6 U(5f) 1 U(7s8s) 0 U(6d) 0 U(7p) 0 U-F Anti-bonding 0\n",
      "State 3, Energy:    -28633.4938992677\n",
      "  |      22>:  0.60088+-0.36805i; |C|^2: 4.96513E-01;  U-F Bonding 6 U(5f) 1 U(7s8s) 0 U(6d) 0 U(7p) 0 U-F Anti-bonding 0\n",
      "  |      24>: -0.09233+-0.43057i; |C|^2: 1.93918E-01;  U-F Bonding 6 U(5f) 1 U(7s8s) 0 U(6d) 0 U(7p) 0 U-F Anti-bonding 0\n",
      "State 4, Energy:    -28633.4938517247\n",
      "  |      26>:  0.47355+ 0.35612i; |C|^2: 3.51074E-01;  U-F Bonding 6 U(5f) 1 U(7s8s) 0 U(6d) 0 U(7p) 0 U-F Anti-bonding 0\n",
      "  |      25>:  0.02276+ 0.50203i; |C|^2: 2.52551E-01;  U-F Bonding 6 U(5f) 1 U(7s8s) 0 U(6d) 0 U(7p) 0 U-F Anti-bonding 0\n",
      "  |      28>: -0.21052+ 0.27860i; |C|^2: 1.21935E-01;  U-F Bonding 6 U(5f) 1 U(7s8s) 0 U(6d) 0 U(7p) 0 U-F Anti-bonding 0\n",
      "State 5, Energy:    -28633.4936445999\n",
      "  |      25>: -0.37376+-0.58418i; |C|^2: 4.80970E-01;  U-F Bonding 6 U(5f) 1 U(7s8s) 0 U(6d) 0 U(7p) 0 U-F Anti-bonding 0\n",
      "  |      24>: -0.03331+ 0.48003i; |C|^2: 2.31540E-01;  U-F Bonding 6 U(5f) 1 U(7s8s) 0 U(6d) 0 U(7p) 0 U-F Anti-bonding 0\n",
      "State 6, Energy:    -28633.4934915580\n",
      "  |      24>:  0.55594+ 0.03239i; |C|^2: 3.10117E-01;  U-F Bonding 6 U(5f) 1 U(7s8s) 0 U(6d) 0 U(7p) 0 U-F Anti-bonding 0\n",
      "  |      26>: -0.00926+ 0.50099i; |C|^2: 2.51075E-01;  U-F Bonding 6 U(5f) 1 U(7s8s) 0 U(6d) 0 U(7p) 0 U-F Anti-bonding 0\n",
      "  |      25>:  0.37663+-0.01095i; |C|^2: 1.41971E-01;  U-F Bonding 6 U(5f) 1 U(7s8s) 0 U(6d) 0 U(7p) 0 U-F Anti-bonding 0\n",
      "State 7, Energy:    -28633.4860773240\n",
      "  |      28>:  0.65611+-0.52705i; |C|^2: 7.08261E-01;  U-F Bonding 6 U(5f) 1 U(7s8s) 0 U(6d) 0 U(7p) 0 U-F Anti-bonding 0\n",
      "  |      26>:  0.31285+ 0.40261i; |C|^2: 2.59972E-01;  U-F Bonding 6 U(5f) 1 U(7s8s) 0 U(6d) 0 U(7p) 0 U-F Anti-bonding 0\n",
      "State 8, Energy:    -28633.4859564232\n",
      "  |      27>:  0.70913+-0.64425i; |C|^2: 9.17926E-01;  U-F Bonding 6 U(5f) 1 U(7s8s) 0 U(6d) 0 U(7p) 0 U-F Anti-bonding 0\n",
      "State 9, Energy:    -28633.4453999679\n",
      "  |      31>:  0.65577+ 0.58194i; |C|^2: 7.68687E-01;  U-F Bonding 6 U(5f) 1 U(7s8s) 0 U(6d) 0 U(7p) 0 U-F Anti-bonding 0\n",
      "State 10, Energy:    -28633.4453273620\n",
      "  |      30>: -0.43919+ 0.45647i; |C|^2: 4.01251E-01;  U-F Bonding 6 U(5f) 1 U(7s8s) 0 U(6d) 0 U(7p) 0 U-F Anti-bonding 0\n",
      "  |      33>:  0.26329+-0.25304i; |C|^2: 1.33346E-01;  U-F Bonding 6 U(5f) 1 U(7s8s) 0 U(6d) 0 U(7p) 0 U-F Anti-bonding 0\n",
      "  |      29>:  0.24903+ 0.25384i; |C|^2: 1.26451E-01;  U-F Bonding 6 U(5f) 1 U(7s8s) 0 U(6d) 0 U(7p) 0 U-F Anti-bonding 0\n",
      "  |      32>: -0.24629+ 0.20119i; |C|^2: 1.01137E-01;  U-F Bonding 6 U(5f) 1 U(7s8s) 0 U(6d) 0 U(7p) 0 U-F Anti-bonding 0\n",
      "  |      34>: -0.22862+-0.22045i; |C|^2: 1.00864E-01;  U-F Bonding 6 U(5f) 1 U(7s8s) 0 U(6d) 0 U(7p) 0 U-F Anti-bonding 0\n",
      "State 11, Energy:    -28633.4452623888\n",
      "  |      33>:  0.27266+ 0.48773i; |C|^2: 3.12226E-01;  U-F Bonding 6 U(5f) 1 U(7s8s) 0 U(6d) 0 U(7p) 0 U-F Anti-bonding 0\n",
      "  |      29>: -0.46430+ 0.26333i; |C|^2: 2.84918E-01;  U-F Bonding 6 U(5f) 1 U(7s8s) 0 U(6d) 0 U(7p) 0 U-F Anti-bonding 0\n",
      "  |      32>:  0.32956+ 0.24116i; |C|^2: 1.66771E-01;  U-F Bonding 6 U(5f) 1 U(7s8s) 0 U(6d) 0 U(7p) 0 U-F Anti-bonding 0\n",
      "  |      30>:  0.08691+ 0.33617i; |C|^2: 1.20565E-01;  U-F Bonding 6 U(5f) 1 U(7s8s) 0 U(6d) 0 U(7p) 0 U-F Anti-bonding 0\n",
      "State 12, Energy:    -28633.4451927960\n",
      "  |      32>: -0.65457+ 0.50367i; |C|^2: 6.82141E-01;  U-F Bonding 6 U(5f) 1 U(7s8s) 0 U(6d) 0 U(7p) 0 U-F Anti-bonding 0\n",
      "  |      30>:  0.35935+-0.16705i; |C|^2: 1.57039E-01;  U-F Bonding 6 U(5f) 1 U(7s8s) 0 U(6d) 0 U(7p) 0 U-F Anti-bonding 0\n",
      "State 13, Energy:    -28633.4388441509\n",
      "  |      33>: -0.05862+ 0.68165i; |C|^2: 4.68084E-01;  U-F Bonding 6 U(5f) 1 U(7s8s) 0 U(6d) 0 U(7p) 0 U-F Anti-bonding 0\n",
      "  |      29>:  0.67986+ 0.05278i; |C|^2: 4.64997E-01;  U-F Bonding 6 U(5f) 1 U(7s8s) 0 U(6d) 0 U(7p) 0 U-F Anti-bonding 0\n",
      "State 14, Energy:    -28633.4387954406\n",
      "  |      34>: -0.20827+ 0.85922i; |C|^2: 7.81628E-01;  U-F Bonding 6 U(5f) 1 U(7s8s) 0 U(6d) 0 U(7p) 0 U-F Anti-bonding 0\n",
      "  |      30>: -0.37633+-0.08865i; |C|^2: 1.49485E-01;  U-F Bonding 6 U(5f) 1 U(7s8s) 0 U(6d) 0 U(7p) 0 U-F Anti-bonding 0\n"
     ]
    }
   ],
   "source": [
    "list_5f =  list(range(28,41))\n",
    "list_5f.append(7)\n",
    "orb_assign={'U-F Bonding':range(1,7),\n",
    "            'U(5f)': list_5f,\n",
    "            'U(7s8s)': range(8,12),\n",
    "            'U(6d)': range(12,22),\n",
    "            'U(7p)': range(22,28),\n",
    "            'U-F Anti-bonding':range(41,47)}\n",
    "\n",
    "states.gen_state_config_report(threshold=0.1,orb_assign=orb_assign)"
   ]
  },
  {
   "cell_type": "code",
   "execution_count": null,
   "metadata": {},
   "outputs": [],
   "source": []
  }
 ],
 "metadata": {
  "kernelspec": {
   "display_name": "Python 3",
   "language": "python",
   "name": "python3"
  },
  "language_info": {
   "codemirror_mode": {
    "name": "ipython",
    "version": 3
   },
   "file_extension": ".py",
   "mimetype": "text/x-python",
   "name": "python",
   "nbconvert_exporter": "python",
   "pygments_lexer": "ipython3",
   "version": "3.6.8"
  }
 },
 "nbformat": 4,
 "nbformat_minor": 2
}
